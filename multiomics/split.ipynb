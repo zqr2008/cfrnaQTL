{
 "cells": [
  {
   "cell_type": "code",
   "execution_count": 31,
   "metadata": {},
   "outputs": [],
   "source": [
    "import numpy as np\n",
    "import pandas as pd\n",
    "from sklearn.model_selection import train_test_split\n",
    "import os \n",
    "import csv\n",
    "import pathlib\n",
    "\n"
   ]
  },
  {
   "cell_type": "code",
   "execution_count": 32,
   "metadata": {},
   "outputs": [],
   "source": [
    "#set directory for gdm study \n",
    "data_folder = \"C:/Users/zqr20/Documents/349/MOGONET/gdmstudy/\"\n",
    "listsub = [\"subX.csv\",\"subY.csv\",\"subZ.csv\"]\n",
    "suffixsub = [\"1_\",\"2_\",\"3_\"]"
   ]
  },
  {
   "cell_type": "code",
   "execution_count": 33,
   "metadata": {},
   "outputs": [],
   "source": [
    "for i in list(range(0,len(listsub))):\n",
    "    x = np.loadtxt(os.path.join(data_folder+\"multi/\"+listsub[i]), delimiter=',')\n",
    "    y = np.loadtxt(os.path.join(r\"C:\\Users\\zqr20\\Documents\\349\\MOGONET\\gdmstudy\\multi\\label.csv\"), delimiter=',')\n",
    "    x_train, x_test, y_train, y_test = train_test_split(x, y,random_state = 42)\n",
    "    \n",
    "    x_train = pd.DataFrame(data = x_train[0:,0:]) \n",
    "    x_train.to_csv(os.path.join(data_folder, suffixsub[i]+\"tr.csv\"),index=False,header=False)\n",
    "\n",
    "\n",
    "    x_test = pd.DataFrame(data = x_test[0:,0:]) \n",
    "    x_test.to_csv(os.path.join(data_folder, suffixsub[i]+\"te.csv\"),index=False,header=False)\n",
    "\n",
    "\n",
    "    d = {'col1': y_train}\n",
    "    label_train = pd.DataFrame(data = d)\n",
    "    label_train.to_csv(os.path.join(data_folder, \"labels\"+\"_tr.csv\"),index=False,header=False)\n",
    "\n",
    "    d = {'col1': y_test}\n",
    "    label_train = pd.DataFrame(data = d)\n",
    "    label_train.to_csv(os.path.join(data_folder, \"labels\"+\"_te.csv\"),index=False,header=False)\n",
    "\n",
    "    featurename = pd.read_csv(os.path.join(data_folder+\"labelled/\"+listsub[i]),nrows=1)\n",
    "    column_names = list(featurename.columns.values)\n",
    "\n",
    "    d = {'col1':column_names}\n",
    "    featurenamedf = pd.DataFrame(data = d)\n",
    "    featurenamedf.to_csv(os.path.join(data_folder,suffixsub[i]+\"featname.csv\"),index=False,header=False)\n",
    "\n"
   ]
  }
 ],
 "metadata": {
  "kernelspec": {
   "display_name": "Python 3",
   "language": "python",
   "name": "python3"
  },
  "language_info": {
   "codemirror_mode": {
    "name": "ipython",
    "version": 3
   },
   "file_extension": ".py",
   "mimetype": "text/x-python",
   "name": "python",
   "nbconvert_exporter": "python",
   "pygments_lexer": "ipython3",
   "version": "3.11.1"
  }
 },
 "nbformat": 4,
 "nbformat_minor": 2
}
